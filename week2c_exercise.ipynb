{
  "nbformat": 4,
  "nbformat_minor": 0,
  "metadata": {
    "colab": {
      "name": "week2c_exercise.ipynb",
      "provenance": [],
      "authorship_tag": "ABX9TyPuAYmrwtmA06Cp++1KBMgh",
      "include_colab_link": true
    },
    "kernelspec": {
      "name": "python3",
      "display_name": "Python 3"
    },
    "language_info": {
      "name": "python"
    }
  },
  "cells": [
    {
      "cell_type": "markdown",
      "metadata": {
        "id": "view-in-github",
        "colab_type": "text"
      },
      "source": [
        "<a href=\"https://colab.research.google.com/github/normanli33/algorithms-sedgewick-python/blob/master/week2c_exercise.ipynb\" target=\"_parent\"><img src=\"https://colab.research.google.com/assets/colab-badge.svg\" alt=\"Open In Colab\"/></a>"
      ]
    },
    {
      "cell_type": "code",
      "execution_count": null,
      "metadata": {
        "colab": {
          "base_uri": "https://localhost:8080/",
          "height": 269
        },
        "id": "L3K85AUFt-g0",
        "outputId": "0e43419b-c196-42dd-fffd-078273f56957"
      },
      "outputs": [
        {
          "output_type": "display_data",
          "data": {
            "text/plain": [
              "<Figure size 432x288 with 1 Axes>"
            ],
            "image/png": "[encoded data removed]"
          },
          "metadata": {
            "needs_background": "light"
          }
        }
      ],
      "source": [
        "# encoder_main.py\n",
        "# COMP9444, CSE, UNSW\n",
        "\n",
        "from __future__ import print_function\n",
        "import torch\n",
        "import torch.utils.data\n",
        "import torch.nn.functional as F\n",
        "import matplotlib.pyplot as plt\n",
        "#import numpy as np\n",
        "\n",
        "\n",
        "class EncModel(torch.nn.Module):\n",
        "    # fully connected two-layer network\n",
        "    def __init__(self, num_input, num_hid, num_out):\n",
        "        super(EncModel, self).__init__()\n",
        "        self.in_hid  = torch.nn.Linear(num_input, num_hid)\n",
        "        self.hid_out = torch.nn.Linear(num_hid, num_out)\n",
        "    def forward(self, input):\n",
        "        hid_sum = self.in_hid(input)\n",
        "        hidden  = torch.tanh(hid_sum)\n",
        "        out_sum = self.hid_out(hidden)\n",
        "        output  = torch.sigmoid(out_sum)\n",
        "        return(output)\n",
        "\n",
        "def plot_hidden(net):\n",
        "    # plot the hidden unit dynamics of the network\n",
        "    plt.xlim(-1,1), plt.ylim(-1,1) # limits of x and y axes\n",
        "\n",
        "    # input to hidden weights and biases\n",
        "    weight = net.in_hid.weight.data.cpu()\n",
        "    bias   = net.in_hid.bias.data.cpu()\n",
        "\n",
        "    num_in  = net.in_hid.weight.data.size()[1]\n",
        "    num_out = net.hid_out.weight.data.size()[0]\n",
        "\n",
        "    # draw a dot to show where each input is mapped to in hidden unit space\n",
        "    P = torch.tanh(weight + bias.unsqueeze(1).repeat(1,num_in))\n",
        "    plt.plot(P[0,:],P[1,:],'ro')\n",
        "\n",
        "    # draw a line interval to show the decision boundary of each output\n",
        "    for i in range(num_out):\n",
        "\n",
        "        A = net.hid_out.weight.data.cpu()[i,0]\n",
        "        B = net.hid_out.weight.data.cpu()[i,1]\n",
        "        C = net.hid_out.bias.data.cpu()[i]\n",
        "\n",
        "        j = 0;\n",
        "        if A == 0:\n",
        "            if B != 0:\n",
        "                y0 = -C/B\n",
        "                if -1 < y0 and y0 < 1:\n",
        "                    j = 2\n",
        "                    plt.plot([-1,1],[y0,y0])\n",
        "        elif B == 0:\n",
        "            if A != 0:\n",
        "                x0 = -C/A\n",
        "                if -1 < x0 and x0 < 1:\n",
        "                    plt.plot([x0,x0],[-1,1])\n",
        "        else:\n",
        "            x = torch.zeros(2)\n",
        "            y = torch.zeros(2)\n",
        "            y0 = (A-C)/B\n",
        "            if -1 <= y0 and y0 <= 1:\n",
        "                x[j] = -1\n",
        "                y[j] =  y0\n",
        "                j = j+1\n",
        "            y0 = (-A-C)/B\n",
        "            if -1 <= y0 and y0 <= 1:\n",
        "                x[j] =  1\n",
        "                y[j] =  y0\n",
        "                j = j+1\n",
        "            x0 = (B-C)/A\n",
        "            if j < 2 and -1 <= x0 and x0 <= 1:\n",
        "                x[j] =  x0\n",
        "                y[j] = -1\n",
        "                j = j+1\n",
        "            x0 = (-B-C)/A\n",
        "            if j < 2 and -1 <= x0 and x0 <= 1:\n",
        "                x[j] =  x0\n",
        "                y[j] =  1\n",
        "                j = j+1\n",
        "            if j > 1:\n",
        "                plt.plot(x,y)\n",
        "\n",
        "def main():\n",
        "    target = torch.eye(9)\n",
        "\n",
        "    num_in  = target.size()[0]\n",
        "    num_out = target.size()[1]\n",
        "\n",
        "    # input is one-hot with same number of rows as target\n",
        "    input  = torch.eye(num_in)\n",
        "    target = torch.eye(num_in)\n",
        "\n",
        "    xor_dataset  = torch.utils.data.TensorDataset(input,target)\n",
        "    train_loader = torch.utils.data.DataLoader(xor_dataset,batch_size=num_in)\n",
        "\n",
        "    # create neural network according to model specification\n",
        "    net = EncModel(num_in,2,num_out)\n",
        "\n",
        "    # initialize weights, but set biases to zero\n",
        "    net.in_hid.weight.data.normal_(0,0.001)\n",
        "    net.hid_out.weight.data.normal_(0,0.001)\n",
        "    net.in_hid.bias.data.zero_()\n",
        "    net.hid_out.bias.data.zero_()\n",
        "\n",
        "    # SGD optimizer\n",
        "    optimizer = torch.optim.SGD(net.parameters(),lr=0.4,momentum=0.9)\n",
        "\n",
        "    loss = 1.0\n",
        "    epoch = 0\n",
        "\n",
        "    while epoch < 100000 and loss > 0.02:\n",
        "        epoch = epoch+1\n",
        "        for batch_id, (data,target) in enumerate(train_loader):\n",
        "            #data, target = data.to(device), target.to(device)\n",
        "            optimizer.zero_grad() # zero the gradients\n",
        "            output = net(data)    # apply network\n",
        "            loss = F.binary_cross_entropy(output,target)\n",
        "            loss.backward()       # compute gradients\n",
        "            optimizer.step()      # update weights\n",
        "            if epoch % 100 == 0:\n",
        "                # print('ep%3d: loss = %7.4f' % (epoch, loss.item()))\n",
        "                continue\n",
        "\n",
        "    plot_hidden(net)\n",
        "    plt.savefig(\"encoder.png\")\n",
        "\n",
        "if __name__ == '__main__':\n",
        "    main()\n"
      ]
    },
    {
      "cell_type": "code",
      "source": [
        ""
      ],
      "metadata": {
        "id": "JFwpnLd86dvJ"
      },
      "execution_count": null,
      "outputs": []
    }
  ]
}